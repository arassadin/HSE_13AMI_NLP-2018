{
 "cells": [
  {
   "cell_type": "code",
   "execution_count": 1,
   "metadata": {},
   "outputs": [],
   "source": [
    "import os\n",
    "import numpy as np\n",
    "import matplotlib.pyplot as plt\n",
    "import lxml\n",
    "import pandas as pd\n",
    "from lxml import objectify, etree, html\n",
    "import json\n",
    "\n",
    "%matplotlib inline"
   ]
  },
  {
   "cell_type": "markdown",
   "metadata": {},
   "source": [
    "## HTML"
   ]
  },
  {
   "cell_type": "code",
   "execution_count": 2,
   "metadata": {},
   "outputs": [],
   "source": [
    "# URL = 'https://ria.ru/syria_chronicle/20180128/1513483999.html'\n",
    "URL = 'http://www.bbc.com/news/world-europe-42850198'"
   ]
  },
  {
   "cell_type": "code",
   "execution_count": 4,
   "metadata": {},
   "outputs": [],
   "source": [
    "page = html.parse(URL)"
   ]
  },
  {
   "cell_type": "code",
   "execution_count": 5,
   "metadata": {},
   "outputs": [
    {
     "name": "stdout",
     "output_type": "stream",
     "text": [
      "Russian presidential elections: Navalny freed after day of protests\n"
     ]
    }
   ],
   "source": [
    "title = page.getroot().find_class('story-body__h1')[0].text\n",
    "\n",
    "print title"
   ]
  },
  {
   "cell_type": "code",
   "execution_count": 6,
   "metadata": {},
   "outputs": [],
   "source": [
    "full_text = page.getroot().find_class('story-body__inner')[0]"
   ]
  },
  {
   "cell_type": "code",
   "execution_count": 9,
   "metadata": {},
   "outputs": [
    {
     "name": "stdout",
     "output_type": "stream",
     "text": [
      "Russian opposition leader Alexei Navalny has been freed after detained by police at a Moscow rally in support of a presidential election boycott.\n"
     ]
    }
   ],
   "source": [
    "prestory = full_text[1].text\n",
    "\n",
    "print prestory"
   ]
  },
  {
   "cell_type": "code",
   "execution_count": 10,
   "metadata": {},
   "outputs": [
    {
     "name": "stdout",
     "output_type": "stream",
     "text": [
      "His lawyer told the press that he had been released without charge but will have to appear in court at a later date and may then face charges.\n",
      "Earlier, police raided his offices in Moscow, reportedly seizing equipment.\n",
      "Mr Navalny - President Vladimir Putin's most vocal critic - is barred from standing in the 18 March election.\n",
      "BBC footage showed him being wrestled to the ground by policemen during the arrest.\n",
      "Soon afterwards the opposition leader tweeted to urge others to join protests across the country. \"The detention of one person is meaningless if there are many of us. Someone, come and replace me,\" he wrote (in Russian). \n",
      "Protest rallies were held in a number of Russian cities. In Moscow and St Petersburg they were not sanctioned by authorities. \n",
      "More than 180 people were detained across the country, reports say.\n",
      "Earlier on Sunday, Russian police raided the property of Mr Navalny's anti-corruption organisation in Moscow. A YouTube clip showed a broadcast recording from the office being interrupted\n",
      "A spokesman for Mr Navalny said the officers used a power tool to break into the office, adding that they said they were investigating a bomb threat.\n",
      "The demonstrations come after weeks of pressure on Mr Navalny's supporters across Russia, who have faced detentions and had leaflets in support of the rallies confiscated. \n",
      "Mr Navalny, who insists he would beat Mr Putin in a fair fight, is barred from running in the ballot over a criminal conviction that he says is politically motivated. \n",
      "The opposition leader led mass street protests against Mr Putin in the winter of 2011-12 and was arrested three times in 2017 for organising unauthorised anti-Putin protests.\n",
      "Mr Putin, who refuses to mention Mr Navalny by name, retains a massive approval rating in Russia and is widely expected to win a fourth six-year term in office.\n",
      "\n"
     ]
    }
   ],
   "source": [
    "text = ''\n",
    "\n",
    "for el in full_text[2:]:\n",
    "    if el.tag in ['p']:\n",
    "        text += el.text\n",
    "        for subel in el:\n",
    "            if subel.tag == 'a':\n",
    "                text += subel.text\n",
    "        text += '\\n'\n",
    "    \n",
    "print text"
   ]
  },
  {
   "cell_type": "markdown",
   "metadata": {},
   "source": [
    "## XML"
   ]
  },
  {
   "cell_type": "code",
   "execution_count": 11,
   "metadata": {},
   "outputs": [],
   "source": [
    "xmlstr = open('book.xml').read()"
   ]
  },
  {
   "cell_type": "code",
   "execution_count": 12,
   "metadata": {},
   "outputs": [
    {
     "name": "stdout",
     "output_type": "stream",
     "text": [
      "<?xml version=\"1.0\" ?>\n",
      "<catalog>\n",
      "        <book id=\"bk101\">\n",
      "            <author>Gambardella, Matthew</author>\n",
      "            <title>XML Developer's Guide</title>\n",
      "            <genre>Computer</genre>\n",
      "            <price>44.95</price>\n",
      "            <publish_date>2000-10-01</publish_date>\n",
      "            <description>An in-depth look at creating applications with XML.</description>\n",
      "        </book>\n",
      "        <book id=\"bk102\">\n",
      "            <author>Ralls, Kim</author>\n",
      "            <title>Midnight Rain</title>\n",
      "            <genre>Fantasy</genre>\n",
      "            <price>5.95</price>\n",
      "            <publish_date>2000-12-16</publish_date>\n",
      "            <description>A former architect battles corporate zombies, an evil sorceress, and her own childhood to become queen of the world.</description>\n",
      "        </book>\n",
      "        <book id=\"bk103\">\n",
      "            <author>Corets, Eva</author>\n",
      "            <title>Maeve Ascendant</title>\n",
      "            <genre>Fantasy</genre>\n",
      "            <price>5.95</price>\n",
      "            <publish_date>2000-11-17</publish_date>\n",
      "            <description>After the collapse of a nanotechnology society in England, the young survivors lay the foundation for a new society.</description>\n",
      "        </book>\n",
      "</catalog>\n",
      "\n"
     ]
    }
   ],
   "source": [
    "print xmlstr"
   ]
  },
  {
   "cell_type": "code",
   "execution_count": 13,
   "metadata": {},
   "outputs": [
    {
     "name": "stdout",
     "output_type": "stream",
     "text": [
      "<Element catalog at 0x7fcd0a678098>\n"
     ]
    }
   ],
   "source": [
    "root = etree.fromstring(xmlstr)\n",
    "\n",
    "print root"
   ]
  },
  {
   "cell_type": "code",
   "execution_count": 14,
   "metadata": {},
   "outputs": [
    {
     "name": "stdout",
     "output_type": "stream",
     "text": [
      "author: Gambardella, Matthew\n",
      "title: XML Developer's Guide\n",
      "genre: Computer\n",
      "price: 44.95\n",
      "publish_date: 2000-10-01\n",
      "description: An in-depth look at creating applications with XML.\n",
      "\n",
      "author: Ralls, Kim\n",
      "title: Midnight Rain\n",
      "genre: Fantasy\n",
      "price: 5.95\n",
      "publish_date: 2000-12-16\n",
      "description: A former architect battles corporate zombies, an evil sorceress, and her own childhood to become queen of the world.\n",
      "\n",
      "author: Corets, Eva\n",
      "title: Maeve Ascendant\n",
      "genre: Fantasy\n",
      "price: 5.95\n",
      "publish_date: 2000-11-17\n",
      "description: After the collapse of a nanotechnology society in England, the young survivors lay the foundation for a new society.\n",
      "\n"
     ]
    }
   ],
   "source": [
    "catalog = []\n",
    "\n",
    "for element_lvl1 in root:\n",
    "    \n",
    "    book = {}\n",
    "    for element_lvl2 in element_lvl1:\n",
    "        txt = element_lvl2.text\n",
    "        book[element_lvl2.tag] = '' if txt is None else txt\n",
    "        print '{}: {}'.format(element_lvl2.tag, book[element_lvl2.tag])\n",
    "\n",
    "    catalog.append(book)\n",
    "        \n",
    "    print "
   ]
  },
  {
   "cell_type": "code",
   "execution_count": 15,
   "metadata": {},
   "outputs": [
    {
     "data": {
      "text/plain": [
       "[{'author': 'Gambardella, Matthew',\n",
       "  'description': 'An in-depth look at creating applications with XML.',\n",
       "  'genre': 'Computer',\n",
       "  'price': '44.95',\n",
       "  'publish_date': '2000-10-01',\n",
       "  'title': \"XML Developer's Guide\"},\n",
       " {'author': 'Ralls, Kim',\n",
       "  'description': 'A former architect battles corporate zombies, an evil sorceress, and her own childhood to become queen of the world.',\n",
       "  'genre': 'Fantasy',\n",
       "  'price': '5.95',\n",
       "  'publish_date': '2000-12-16',\n",
       "  'title': 'Midnight Rain'},\n",
       " {'author': 'Corets, Eva',\n",
       "  'description': 'After the collapse of a nanotechnology society in England, the young survivors lay the foundation for a new society.',\n",
       "  'genre': 'Fantasy',\n",
       "  'price': '5.95',\n",
       "  'publish_date': '2000-11-17',\n",
       "  'title': 'Maeve Ascendant'}]"
      ]
     },
     "execution_count": 15,
     "metadata": {},
     "output_type": "execute_result"
    }
   ],
   "source": [
    "catalog"
   ]
  },
  {
   "cell_type": "markdown",
   "metadata": {},
   "source": [
    "## JSON"
   ]
  },
  {
   "cell_type": "code",
   "execution_count": 16,
   "metadata": {},
   "outputs": [
    {
     "name": "stdout",
     "output_type": "stream",
     "text": [
      "{u'joints': {u'11': [791.25, 693.75, 1, 11, 0.412109375, 0.6423611111111112], u'10': [761.25, 851.25, 1, 10, 0.396484375, 0.7881944444444444], u'13': [753.75, 843.75, 1, 13, 0.392578125, 0.78125], u'12': [768.75, 768.75, 1, 12, 0.400390625, 0.7118055555555556], u'15': [791.25, 528.75, 1, 15, 0.412109375, 0.4895833333333333], u'17': [813.75, 528.75, 1, 17, 0.423828125, 0.4895833333333333], u'1': [813.75, 573.75, 1, 1, 0.423828125, 0.53125], u'0': [783.75, 528.75, 1, 0, 0.408203125, 0.4895833333333333], u'3': [828.75, 641.25, 1, 3, 0.431640625, 0.59375], u'2': [821.25, 566.25, 1, 2, 0.427734375, 0.5243055555555556], u'5': [806.25, 581.25, 1, 5, 0.419921875, 0.5381944444444444], u'7': [798.75, 693.75, 1, 7, 0.416015625, 0.6423611111111112], u'6': [791.25, 641.25, 1, 6, 0.412109375, 0.59375], u'9': [776.25, 768.75, 1, 9, 0.404296875, 0.7118055555555556], u'8': [806.25, 693.75, 1, 8, 0.419921875, 0.6423611111111112]}, u'rect': [700.0311468932622, 455.3073043146713, 867.4688531067378, 889.9688531067378]} <type 'dict'>\n"
     ]
    }
   ],
   "source": [
    "el = json.load(open('example.json', 'rb'))\n",
    "\n",
    "print el, type(el)"
   ]
  },
  {
   "cell_type": "code",
   "execution_count": null,
   "metadata": {},
   "outputs": [],
   "source": []
  }
 ],
 "metadata": {
  "kernelspec": {
   "display_name": "Python 2",
   "language": "python",
   "name": "python2"
  },
  "language_info": {
   "codemirror_mode": {
    "name": "ipython",
    "version": 2
   },
   "file_extension": ".py",
   "mimetype": "text/x-python",
   "name": "python",
   "nbconvert_exporter": "python",
   "pygments_lexer": "ipython2",
   "version": "2.7.12"
  }
 },
 "nbformat": 4,
 "nbformat_minor": 2
}
